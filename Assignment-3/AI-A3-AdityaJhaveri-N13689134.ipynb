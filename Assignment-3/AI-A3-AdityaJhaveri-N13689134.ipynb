{
 "cells": [
  {
   "cell_type": "markdown",
   "metadata": {},
   "source": [
    "### Aditya Jhaveri - Assignment 3"
   ]
  },
  {
   "cell_type": "markdown",
   "metadata": {},
   "source": [
    "#### Task 1: Object Detection"
   ]
  },
  {
   "cell_type": "code",
   "execution_count": 2,
   "metadata": {},
   "outputs": [],
   "source": [
    "import cv2\n",
    "import os\n",
    "from ultralytics import YOLO\n",
    "import numpy as np\n",
    "import imutils"
   ]
  },
  {
   "cell_type": "code",
   "execution_count": 3,
   "metadata": {},
   "outputs": [],
   "source": [
    "inputVideoPath = 'video.mp4'\n",
    "outputVideoPath = 'output_video.mp4'\n",
    "yoloWeightsPath = 'yolov4-csp.weights'\n",
    "yoloConfigPath = 'yolov4-csp.cfg'\n",
    "detectionProbabilityThresh = 0.5\n",
    "nonMaximaSuppression = 0.3"
   ]
  },
  {
   "cell_type": "code",
   "execution_count": 4,
   "metadata": {},
   "outputs": [],
   "source": [
    "labelsPath = 'coco_classes.txt'\n",
    "LABELS = open(labelsPath).read().strip().split(\"\\n\")"
   ]
  },
  {
   "cell_type": "code",
   "execution_count": 5,
   "metadata": {},
   "outputs": [],
   "source": [
    "np.random.seed(42)\n",
    "COLORS = np.random.randint(0, 255, size=(len(LABELS), 3), dtype=\"uint8\")"
   ]
  },
  {
   "cell_type": "code",
   "execution_count": 6,
   "metadata": {},
   "outputs": [],
   "source": [
    "net = cv2.dnn.readNetFromDarknet(yoloConfigPath, yoloWeightsPath)\n",
    "ln = net.getLayerNames()\n",
    "ln = [ln[i - 1] for i in net.getUnconnectedOutLayers()]"
   ]
  },
  {
   "cell_type": "code",
   "execution_count": 7,
   "metadata": {},
   "outputs": [
    {
     "name": "stdout",
     "output_type": "stream",
     "text": [
      "Width: 360, Height: 640\n"
     ]
    }
   ],
   "source": [
    "vs = cv2.VideoCapture(inputVideoPath)\n",
    "# Get the width (W) and height (H) of the video\n",
    "W = int(vs.get(cv2.CAP_PROP_FRAME_WIDTH))  # Video width\n",
    "H = int(vs.get(cv2.CAP_PROP_FRAME_HEIGHT))  # Video height\n",
    "\n",
    "# (W, H) = (None, None)\n",
    "\n",
    "# Optional: Initialize the video writer (if you want to save the output video)\n",
    "writer = None\n",
    "\n",
    "# Print the width and height for debugging\n",
    "print(f\"Width: {W}, Height: {H}\")"
   ]
  },
  {
   "cell_type": "code",
   "execution_count": 8,
   "metadata": {},
   "outputs": [],
   "source": [
    "try:\n",
    "    prop = cv2.CAP_PROP_FRAME_COUNT if imutils.is_cv2() else cv2.CAP_PROP_FRAME_COUNT\n",
    "    total = int(vs.get(prop))\n",
    "\n",
    "except:\n",
    "    total = -1\n",
    "    print('Frames could not be determined')"
   ]
  },
  {
   "cell_type": "code",
   "execution_count": 9,
   "metadata": {},
   "outputs": [
    {
     "name": "stderr",
     "output_type": "stream",
     "text": [
      "OpenCV: FFMPEG: tag 0x47504a4d/'MJPG' is not supported with codec id 7 and format 'mp4 / MP4 (MPEG-4 Part 14)'\n",
      "OpenCV: FFMPEG: fallback to use tag 0x7634706d/'mp4v'\n"
     ]
    },
    {
     "name": "stdout",
     "output_type": "stream",
     "text": [
      "[INFO] cleaning up...\n"
     ]
    }
   ],
   "source": [
    "import cv2\n",
    "import numpy as np\n",
    "\n",
    "vs = cv2.VideoCapture(inputVideoPath)\n",
    "writer = None\n",
    "(W, H) = (None, None)\n",
    "\n",
    "detections= []\n",
    "\n",
    "while True:\n",
    "    (grabbed, frame) = vs.read()\n",
    "\n",
    "    if not grabbed:\n",
    "        break\n",
    "\n",
    "    if W is None and H is None:\n",
    "        (H, W) = frame.shape[:2]\n",
    "    frame_resized = cv2.resize(frame, (416, 416))\n",
    "\n",
    "    # Use the correct input size (416x416 or 608x608)\n",
    "    blob = cv2.dnn.blobFromImage(frame, 1 / 255.0, (416, 416), swapRB=True, crop=False)\n",
    "    net.setInput(blob)\n",
    "    layerOutputs = net.forward(ln)\n",
    "\n",
    "    boxes = []\n",
    "    confidences = []\n",
    "    classIDs = []\n",
    "    \n",
    "    for output in layerOutputs:\n",
    "        for detection in output:\n",
    "            scores = detection[5:]\n",
    "            classID = np.argmax(scores)\n",
    "            confidence = scores[classID]\n",
    "            if confidence > detectionProbabilityThresh:\n",
    "                box = detection[0:4] * np.array([W, H, W, H])\n",
    "                (centerX, centerY, width, height) = box.astype(\"int\")\n",
    "                x = int(centerX - (width / 2))\n",
    "                y = int(centerY - (height / 2))\n",
    "                boxes.append([x, y, int(width), int(height)])\n",
    "                confidences.append(float(confidence))\n",
    "                classIDs.append(classID)\n",
    "\n",
    "    idxs = cv2.dnn.NMSBoxes(boxes, confidences, detectionProbabilityThresh, nonMaximaSuppression)\n",
    "\n",
    "    if len(idxs) > 0:\n",
    "        best_box = None\n",
    "        max_confidence = 0\n",
    "        for i in idxs.flatten():\n",
    "            (x, y) = (boxes[i][0], boxes[i][1])\n",
    "            (w, h) = (boxes[i][2], boxes[i][3])\n",
    "            color = [int(c) for c in COLORS[classIDs[i]]]\n",
    "            cv2.rectangle(frame, (x, y), (x + w, y + h), color, 2)\n",
    "            text = \"{}: {:.4f}\".format(LABELS[classIDs[i]], confidences[i])\n",
    "            cv2.putText(frame, text, (x, y - 5), cv2.FONT_HERSHEY_SIMPLEX, 0.5, color, 2)\n",
    "            if confidences[i] > max_confidence:\n",
    "                max_confidence = confidences[i]\n",
    "                best_box = boxes[i]\n",
    "        detections.append(best_box)\n",
    "    else:\n",
    "        detections.append(None)\n",
    "\n",
    "    if writer is None:\n",
    "        fourcc = cv2.VideoWriter_fourcc(*\"MJPG\")\n",
    "        writer = cv2.VideoWriter(outputVideoPath, fourcc, 30, (frame.shape[1], frame.shape[0]), True)\n",
    "\n",
    "    writer.write(frame)\n",
    "\n",
    "print(\"[INFO] cleaning up...\")\n",
    "vs.release()\n",
    "writer.release()\n",
    "cv2.destroyAllWindows()"
   ]
  },
  {
   "cell_type": "markdown",
   "metadata": {},
   "source": [
    "#### Task 2: Kalman Filter"
   ]
  },
  {
   "cell_type": "code",
   "execution_count": 10,
   "metadata": {},
   "outputs": [],
   "source": [
    "from filterpy.kalman import KalmanFilter\n",
    "import matplotlib.pyplot as plt"
   ]
  },
  {
   "cell_type": "code",
   "execution_count": 11,
   "metadata": {},
   "outputs": [],
   "source": [
    "def init_kalman():\n",
    "    kf = KalmanFilter(dim_x=4, dim_z=2)  # State: [x, y, vx, vy], Measurement: [x, y]\n",
    "    \n",
    "    dt = 1  # Assuming a fixed time step of 1 frame\n",
    "    kf.F = np.array([[1, 0, dt, 0],  \n",
    "                     [0, 1, 0, dt],  \n",
    "                     [0, 0, 1, 0],  \n",
    "                     [0, 0, 0, 1]])  \n",
    "    \n",
    "    kf.H = np.array([[1, 0, 0, 0],  \n",
    "                     [0, 1, 0, 0]])  \n",
    "\n",
    "    kf.Q = np.eye(4) * 0.1  \n",
    "    kf.R = np.eye(2) * 5  \n",
    "    kf.P *= 500  \n",
    "\n",
    "    kf.x = np.array([0, 0, 0, 0])  # Initial state [x, y, vx, vy]\n",
    "\n",
    "    print(\"[INFO] Kalman Filter initialized.\")  \n",
    "    return kf"
   ]
  },
  {
   "cell_type": "code",
   "execution_count": 12,
   "metadata": {},
   "outputs": [],
   "source": [
    "def track_vehicle(video_path, detections):\n",
    "    cap = cv2.VideoCapture(video_path)\n",
    "    kf = init_kalman()\n",
    "    if kf is None:\n",
    "        print(\"it is none\")\n",
    "        return\n",
    "    innovation_magnitudes = []\n",
    "    frame_idx = 0\n",
    "    writer = None\n",
    "\n",
    "    while True:\n",
    "        ret, frame = cap.read()\n",
    "        if not ret:\n",
    "            break  # End of video\n",
    "\n",
    "        if frame_idx < len(detections):\n",
    "            bbox = detections[frame_idx]\n",
    "            if bbox is not None:\n",
    "                x, y, w, h = bbox\n",
    "                measurement = np.array([x + w / 2, y + h / 2])\n",
    "\n",
    "                kf.predict()\n",
    "                kf.update(measurement)\n",
    "\n",
    "                innovation = measurement - kf.x[:2]\n",
    "                innovation_magnitudes.append(np.linalg.norm(innovation))\n",
    "            else:\n",
    "                kf.predict()\n",
    "        else:\n",
    "            kf.predict()\n",
    "\n",
    "        est_x, est_y = int(kf.x[0]), int(kf.x[1])\n",
    "        cv2.circle(frame, (est_x, est_y), 10, (0, 0, 255), -1)  \n",
    "\n",
    "        if writer is None:\n",
    "            fourcc = cv2.VideoWriter_fourcc(*\"MJPG\")\n",
    "            writer = cv2.VideoWriter(\"output_with_Kalman.avi\", fourcc, 30, (frame.shape[1], frame.shape[0]), True)\n",
    "        writer.write(frame)\n",
    "\n",
    "        frame_idx += 1\n",
    "\n",
    "    cap.release()\n",
    "    writer.release()\n",
    "    return innovation_magnitudes"
   ]
  },
  {
   "cell_type": "code",
   "execution_count": 13,
   "metadata": {},
   "outputs": [],
   "source": [
    "# Plot Innovation Sequence\n",
    "def plot_innovation(innovation_magnitudes):\n",
    "    plt.plot(innovation_magnitudes, label=\"Innovation Magnitude\")\n",
    "    plt.xlabel('Time step')\n",
    "    plt.ylabel('Innovation Magnitude')\n",
    "    plt.title('Innovation Sequence Over Time')\n",
    "    plt.legend()\n",
    "    plt.show()"
   ]
  },
  {
   "cell_type": "code",
   "execution_count": 14,
   "metadata": {},
   "outputs": [
    {
     "name": "stdout",
     "output_type": "stream",
     "text": [
      "[INFO] Kalman Filter initialized.\n"
     ]
    }
   ],
   "source": [
    "# Run Kalman filter with Task 1 detections\n",
    "innovations = track_vehicle(\"video.mp4\", detections)"
   ]
  },
  {
   "cell_type": "code",
   "execution_count": 15,
   "metadata": {},
   "outputs": [
    {
     "data": {
      "image/png": "[encoded data removed]",
      "text/plain": [
       "<Figure size 640x480 with 1 Axes>"
      ]
     },
     "metadata": {},
     "output_type": "display_data"
    }
   ],
   "source": [
    "# Plot innovation sequence\n",
    "plot_innovation(innovations)"
   ]
  },
  {
   "cell_type": "markdown",
   "metadata": {},
   "source": [
    "#### Task 3: Count Vehicular Traffic"
   ]
  },
  {
   "cell_type": "code",
   "execution_count": 16,
   "metadata": {},
   "outputs": [],
   "source": [
    "video_path = \"video_traffic.mp4\"\n",
    "vs = cv2.VideoCapture(video_path)\n",
    "\n",
    "# Load YOLO model\n",
    "net = cv2.dnn.readNet(\"yolov4-csp.weights\", \"yolov4-csp.cfg\")\n",
    "ln = net.getUnconnectedOutLayersNames()\n",
    "\n",
    "detections = []\n",
    "\n",
    "while True:\n",
    "    grabbed, frame = vs.read()\n",
    "    if not grabbed:\n",
    "        break\n",
    "\n",
    "    (H, W) = frame.shape[:2]\n",
    "    blob = cv2.dnn.blobFromImage(frame, 1/255.0, (416, 416), swapRB=True, crop=False)\n",
    "    net.setInput(blob)\n",
    "    layerOutputs = net.forward(ln)\n",
    "\n",
    "    for output in layerOutputs:\n",
    "        for detection in output:\n",
    "            scores = detection[5:]\n",
    "            classID = np.argmax(scores)\n",
    "            confidence = scores[classID]\n",
    "            if confidence > 0.5:  # Detection threshold\n",
    "                box = detection[0:4] * np.array([W, H, W, H])\n",
    "                (centerX, centerY, width, height) = box.astype(\"int\")\n",
    "                x = int(centerX - (width / 2))\n",
    "                y = int(centerY - (height / 2))\n",
    "                detections.append((x, y, width, height))\n",
    "\n",
    "vs.release()"
   ]
  },
  {
   "cell_type": "code",
   "execution_count": 17,
   "metadata": {},
   "outputs": [],
   "source": [
    "from filterpy.kalman import KalmanFilter\n",
    "\n",
    "def track_vehicle(video_path, detections):\n",
    "    kf = KalmanFilter(dim_x=4, dim_z=2)  # 4D state (x, y, vx, vy) and 2D measurement (x, y)\n",
    "    kf.x = np.array([0, 0, 0, 0])  # Initial state\n",
    "    kf.F = np.array([[1, 0, 1, 0], [0, 1, 0, 1], [0, 0, 1, 0], [0, 0, 0, 1]])  # Transition\n",
    "    kf.H = np.array([[1, 0, 0, 0], [0, 1, 0, 0]])  # Measurement function\n",
    "    kf.P *= 1000  # Covariance\n",
    "    kf.R = np.eye(2) * 5  # Measurement noise\n",
    "    kf.Q = np.eye(4) * 0.01  # Process noise\n",
    "\n",
    "    innovations = []\n",
    "    \n",
    "    for bbox in detections:\n",
    "        x, y, w, h = bbox\n",
    "        measurement = np.array([x + w / 2, y + h / 2])\n",
    "        \n",
    "        kf.predict()\n",
    "        kf.update(measurement)\n",
    "\n",
    "        innovation = np.linalg.norm(measurement - kf.x[:2])\n",
    "        innovations.append(innovation)\n",
    "    \n",
    "    return innovations\n",
    "\n",
    "innovations = track_vehicle(\"video_traffic.mp4\", detections)"
   ]
  },
  {
   "cell_type": "code",
   "execution_count": 18,
   "metadata": {},
   "outputs": [
    {
     "name": "stdout",
     "output_type": "stream",
     "text": [
      "Vehicles moving left: 463\n",
      "Vehicles moving right: 373\n"
     ]
    }
   ],
   "source": [
    "def count_vehicles(detections, video_path):\n",
    "    count_left = 0\n",
    "    count_right = 0\n",
    "    \n",
    "    for bbox in detections:\n",
    "        x, y, w, h = bbox\n",
    "        if x < 640:  # Assuming left side of video frame is 1280px wide\n",
    "            count_left += 1\n",
    "        else:\n",
    "            count_right += 1\n",
    "\n",
    "    print(f\"Vehicles moving left: {count_left}\")\n",
    "    print(f\"Vehicles moving right: {count_right}\")\n",
    "\n",
    "count_vehicles(detections, \"new_video.mp4\")"
   ]
  }
 ],
 "metadata": {
  "kernelspec": {
   "display_name": "Python 3",
   "language": "python",
   "name": "python3"
  },
  "language_info": {
   "codemirror_mode": {
    "name": "ipython",
    "version": 3
   },
   "file_extension": ".py",
   "mimetype": "text/x-python",
   "name": "python",
   "nbconvert_exporter": "python",
   "pygments_lexer": "ipython3",
   "version": "3.12.4"
  }
 },
 "nbformat": 4,
 "nbformat_minor": 2
}
