{
 "cells": [
  {
   "cell_type": "code",
   "execution_count": 8,
   "id": "3252c54a",
   "metadata": {},
   "outputs": [
    {
     "name": "stdout",
     "output_type": "stream",
     "text": [
      "Requirement already satisfied: unified_planning in /Library/Frameworks/Python.framework/Versions/3.12/lib/python3.12/site-packages (1.2.0)\n",
      "Requirement already satisfied: pyparsing in /Library/Frameworks/Python.framework/Versions/3.12/lib/python3.12/site-packages (from unified_planning) (3.1.4)\n",
      "Requirement already satisfied: networkx in /Library/Frameworks/Python.framework/Versions/3.12/lib/python3.12/site-packages (from unified_planning) (3.4.2)\n",
      "Requirement already satisfied: ConfigSpace in /Library/Frameworks/Python.framework/Versions/3.12/lib/python3.12/site-packages (from unified_planning) (1.2.1)\n",
      "Requirement already satisfied: numpy in /Library/Frameworks/Python.framework/Versions/3.12/lib/python3.12/site-packages (from ConfigSpace->unified_planning) (1.26.4)\n",
      "Requirement already satisfied: scipy in /Library/Frameworks/Python.framework/Versions/3.12/lib/python3.12/site-packages (from ConfigSpace->unified_planning) (1.14.1)\n",
      "Requirement already satisfied: typing_extensions in /Library/Frameworks/Python.framework/Versions/3.12/lib/python3.12/site-packages (from ConfigSpace->unified_planning) (4.12.2)\n",
      "Requirement already satisfied: more_itertools in /Library/Frameworks/Python.framework/Versions/3.12/lib/python3.12/site-packages (from ConfigSpace->unified_planning) (10.6.0)\n",
      "Requirement already satisfied: up-fast-downward in /Library/Frameworks/Python.framework/Versions/3.12/lib/python3.12/site-packages (0.4.1)\n",
      "Requirement already satisfied: up-pyperplan in /Library/Frameworks/Python.framework/Versions/3.12/lib/python3.12/site-packages (1.1.0)\n",
      "Requirement already satisfied: up-enhsp in /Library/Frameworks/Python.framework/Versions/3.12/lib/python3.12/site-packages (0.0.27)\n",
      "Requirement already satisfied: pyperplan==2.1 in /Library/Frameworks/Python.framework/Versions/3.12/lib/python3.12/site-packages (from up-pyperplan) (2.1)\n",
      "Requirement already satisfied: ConfigSpace in /Library/Frameworks/Python.framework/Versions/3.12/lib/python3.12/site-packages (from up-pyperplan) (1.2.1)\n",
      "Requirement already satisfied: wheel in /Library/Frameworks/Python.framework/Versions/3.12/lib/python3.12/site-packages (from pyperplan==2.1->up-pyperplan) (0.45.0)\n",
      "Requirement already satisfied: numpy in /Library/Frameworks/Python.framework/Versions/3.12/lib/python3.12/site-packages (from ConfigSpace->up-pyperplan) (1.26.4)\n",
      "Requirement already satisfied: pyparsing in /Library/Frameworks/Python.framework/Versions/3.12/lib/python3.12/site-packages (from ConfigSpace->up-pyperplan) (3.1.4)\n",
      "Requirement already satisfied: scipy in /Library/Frameworks/Python.framework/Versions/3.12/lib/python3.12/site-packages (from ConfigSpace->up-pyperplan) (1.14.1)\n",
      "Requirement already satisfied: typing_extensions in /Library/Frameworks/Python.framework/Versions/3.12/lib/python3.12/site-packages (from ConfigSpace->up-pyperplan) (4.12.2)\n",
      "Requirement already satisfied: more_itertools in /Library/Frameworks/Python.framework/Versions/3.12/lib/python3.12/site-packages (from ConfigSpace->up-pyperplan) (10.6.0)\n"
     ]
    }
   ],
   "source": [
    "!pip install unified_planning\n",
    "!pip install up-fast-downward up-pyperplan up-enhsp"
   ]
  },
  {
   "cell_type": "code",
   "execution_count": 4,
   "id": "b5220794",
   "metadata": {},
   "outputs": [
    {
     "name": "stdout",
     "output_type": "stream",
     "text": [
      "\u001b[96m  *** Credits ***\n",
      "\u001b[0m\u001b[96m  * In operation mode `OneshotPlanner` at line 9 of `/var/folders/3y/x88zbv4n0b18f8cg1qcv1my40000gn/T/ipykernel_44979/2980226532.py`, \u001b[0m\u001b[96myou are using the following planning engine:\n",
      "\u001b[0m\u001b[96m  * Engine name: Fast Downward\n",
      "  * Developers:  Uni Basel team and contributors (cf. https://github.com/aibasel/downward/blob/main/README.md)\n",
      "\u001b[0m\u001b[96m  * Description: \u001b[0m\u001b[96mFast Downward is a domain-independent classical planning system.\u001b[0m\u001b[96m\n",
      "\u001b[0m\u001b[96m\n",
      "\u001b[0m\n",
      "Solver result status: PlanGenerationResultStatus.SOLVED_SATISFICING\n",
      "Plan found:\n",
      "\n",
      "1. assign-request(req3, long-context, bard, acc1, s6, bp1, bc1)\n",
      "2. assign-request(req4, safe-for-kids, bingchat, acc1, s5, bp3, bc3)\n",
      "3. assign-request(req1, coding, gpt4, acc1, s2, bp5, bc5)\n",
      "4. assign-request(req2, multilingual, gpt4, acc1, s1, bp4, bc4)\n",
      "5. assign-request(req5, multilingual, claude3, acc1, s4, bp2, bc2)\n"
     ]
    }
   ],
   "source": [
    "from unified_planning.io.pddl_reader import PDDLReader\n",
    "from unified_planning.engines import PlanGenerationResultStatus\n",
    "from unified_planning.shortcuts import *\n",
    "\n",
    "def solve_pddl(domain_path: str, problem_path: str):\n",
    "    reader = PDDLReader()\n",
    "    problem = reader.parse_problem(domain_path, problem_path)\n",
    "\n",
    "    with OneshotPlanner(name=\"fast-downward\") as planner:\n",
    "        if planner is None:\n",
    "            print(\"No suitable planner found.\")\n",
    "            return\n",
    "\n",
    "        result = planner.solve(problem)\n",
    "\n",
    "        print(\"\\nSolver result status:\", result.status)\n",
    "\n",
    "        if result.status == PlanGenerationResultStatus.SOLVED_SATISFICING:\n",
    "            print(\"Plan found:\\n\")\n",
    "            if result.plan.actions:\n",
    "                for i, action_instance in enumerate(result.plan.actions, 1):\n",
    "                    print(f\"{i}. {action_instance}\")\n",
    "            else:\n",
    "                print(\"Plan exists but no actions listed. Full plan object:\")\n",
    "                print(result.plan)\n",
    "        else:\n",
    "            print(\"No plan found or problem is unsolvable.\")\n",
    "            print(result)\n",
    "\n",
    "if __name__ == \"__main__\":\n",
    "    domain_file = \"domain.pddl\"\n",
    "    problem_file = \"problem.pddl\"\n",
    "    solve_pddl(domain_file, problem_file)"
   ]
  }
 ],
 "metadata": {
  "kernelspec": {
   "display_name": "Python 3",
   "language": "python",
   "name": "python3"
  },
  "language_info": {
   "codemirror_mode": {
    "name": "ipython",
    "version": 3
   },
   "file_extension": ".py",
   "mimetype": "text/x-python",
   "name": "python",
   "nbconvert_exporter": "python",
   "pygments_lexer": "ipython3",
   "version": "3.12.4"
  }
 },
 "nbformat": 4,
 "nbformat_minor": 5
}
