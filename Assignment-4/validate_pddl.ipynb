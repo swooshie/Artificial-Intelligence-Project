{
 "cells": [
  {
   "cell_type": "code",
   "execution_count": 10,
   "id": "0142b736",
   "metadata": {},
   "outputs": [
    {
     "name": "stdout",
     "output_type": "stream",
     "text": [
      "Reading domain from: domain_5.pddl\n",
      "Reading problem from: problem_5.pddl\n",
      "\n",
      "PDDL files successfully validated.\n",
      "Problem name: route-requests\n",
      "Number of objects: 34\n",
      "Number of actions: 1\n",
      "Number of fluents: 10\n",
      "Goals: [(request-assigned(req1) and request-assigned(req2) and request-assigned(req3) and request-assigned(req4) and request-assigned(req5))]\n"
     ]
    }
   ],
   "source": [
    "from unified_planning.io.pddl_reader import PDDLReader\n",
    "from unified_planning.exceptions import UPException\n",
    "\n",
    "def validate_pddl(domain_path: str, problem_path: str):\n",
    "    reader = PDDLReader()\n",
    "    try:\n",
    "        print(f\"Reading domain from: {domain_path}\")\n",
    "        print(f\"Reading problem from: {problem_path}\")\n",
    "        \n",
    "        problem = reader.parse_problem(domain_path, problem_path)\n",
    "        print(\"\\nPDDL files successfully validated.\")\n",
    "        print(f\"Problem name: {problem.name}\")\n",
    "        print(f\"Number of objects: {len(problem.all_objects)}\")\n",
    "\n",
    "        if hasattr(problem, \"actions\"):\n",
    "            print(f\"Number of actions: {len(problem.actions)}\")\n",
    "        if hasattr(problem, \"fluents\"):\n",
    "            print(f\"Number of fluents: {len(problem.fluents)}\")\n",
    "        if hasattr(problem, \"goals\"):\n",
    "            print(f\"Goals: {problem.goals}\")\n",
    "\n",
    "    except UPException as e:\n",
    "        print(\"\\nValidation failed.\")\n",
    "        print(f\"Error: {e}\")\n",
    "\n",
    "if __name__ == \"__main__\":\n",
    "    domain_file = \"domain_5.pddl\"\n",
    "    problem_file = \"problem_5.pddl\"\n",
    "    validate_pddl(domain_file, problem_file)"
   ]
  }
 ],
 "metadata": {
  "kernelspec": {
   "display_name": "Python 3",
   "language": "python",
   "name": "python3"
  },
  "language_info": {
   "codemirror_mode": {
    "name": "ipython",
    "version": 3
   },
   "file_extension": ".py",
   "mimetype": "text/x-python",
   "name": "python",
   "nbconvert_exporter": "python",
   "pygments_lexer": "ipython3",
   "version": "3.12.4"
  }
 },
 "nbformat": 4,
 "nbformat_minor": 5
}
